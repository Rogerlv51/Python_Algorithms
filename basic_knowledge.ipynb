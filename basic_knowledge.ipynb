{
 "cells": [
  {
   "cell_type": "markdown",
   "metadata": {},
   "source": [
    "# 选择排序"
   ]
  },
  {
   "cell_type": "code",
   "execution_count": 3,
   "metadata": {},
   "outputs": [
    {
     "name": "stdout",
     "output_type": "stream",
     "text": [
      "[1, 2, 3, 4, 5, 6]\n"
     ]
    }
   ],
   "source": [
    "# 用一种递归的方式去做，每一次找当前序列中的最大值，然后交换最大值和最后一个索引位置的值，直到整个序列排序完毕\n",
    "def selection_sort(A, i = None): \n",
    "    if i is None: \n",
    "        i = len(A)-1 \n",
    "    if i > 0: \n",
    "        j = prefix_max(A, i) \n",
    "        A[i], A[j] = A[j], A[i] \n",
    "        selection_sort(A, i -1)\n",
    "\n",
    "def prefix_max(A, i):    # 查找序列最大值所在索引\n",
    "    if i>0:\n",
    "        j = prefix_max(A, i-1)\n",
    "        if A[i] < A[j]:\n",
    "            return j\n",
    "    return i\n",
    "\n",
    "A = [5, 6, 4, 3, 1, 2]\n",
    "selection_sort(A)\n",
    "print(A)\n"
   ]
  },
  {
   "cell_type": "markdown",
   "metadata": {},
   "source": [
    "# 归并排序"
   ]
  },
  {
   "cell_type": "code",
   "execution_count": 17,
   "metadata": {},
   "outputs": [
    {
     "name": "stdout",
     "output_type": "stream",
     "text": [
      "[1, 2, 3, 4, 5, 6, 7, 9]\n"
     ]
    }
   ],
   "source": [
    "## 归并排序的原理就是把数组切分成两个小块，先把块内的元素排好序，最后再用两个指针比大小对原数组进行重新填值\n",
    "## 算法时间复杂度为O(nlogn)\n",
    "def merge_sort(A, a = 0, b = None): # Sort sub-array A[a:b] 2 \n",
    "    if b is None: # O(1) initialize 3 \n",
    "        b = len(A) # O(1) 4 \n",
    "    if 1 < b-a: #O(1) size k= b-a 5 \n",
    "        c = (a+b+1)//2 #O(1) computecenter 6 \n",
    "        merge_sort(A, a, c) # T(k/2) recursively sort left 7      分别对左右两个部分进行排序操作，达成局部有序\n",
    "        merge_sort(A, c, b) # T(k/2) recursively sort right 8     \n",
    "        L, R = A[a:c], A[c:b] # O(k) copy 9 \n",
    "        i, j = 0, 0 # O(1) initialize pointers\n",
    "        while a < b: #O(n)\n",
    "            if (j >= len(R)) or (i < len(L) and L[i] < R[j]): # O(1) check side\n",
    "                A[a] = L[i] # O(1) merge from left\n",
    "                i = i + 1 # O(1) decrement left pointer\n",
    "            else:\n",
    "                A[a] = R[j] # O(1) merge from right\n",
    "                j = j + 1 # O(1) decrement right pointer\n",
    "            a = a + 1 # O(1) decrement merge pointer\n",
    "\n",
    "A = [7, 1, 5, 6, 2, 4, 9, 3]\n",
    "merge_sort(A)\n",
    "print(A)"
   ]
  },
  {
   "cell_type": "markdown",
   "metadata": {},
   "source": [
    "# 单链表"
   ]
  },
  {
   "cell_type": "code",
   "execution_count": 9,
   "metadata": {},
   "outputs": [
    {
     "name": "stdout",
     "output_type": "stream",
     "text": [
      "deque([1, 2, 3, 2]) \n",
      "\n",
      "deque([1, 2, 99, 3, 2]) \n",
      "\n",
      "1 \n",
      "\n",
      "99 \n",
      "\n",
      "deque([2, 99, 3, 2])\n"
     ]
    }
   ],
   "source": [
    "# 单链表基础操作\n",
    "from collections import deque\n",
    "\n",
    "linkedlist = deque()    # 创建单链表\n",
    "linkedlist.append(1)    # 尾插\n",
    "linkedlist.append(2)\n",
    "linkedlist.append(3)\n",
    "linkedlist.append(2)\n",
    "print(linkedlist, '\\n')\n",
    "linkedlist.insert(2, 99)     # 指定位置插入\n",
    "print(linkedlist, '\\n')\n",
    "print(linkedlist.index(2), '\\n')        #  搜索算法，查找指定值第一次出现的位置\n",
    "print(linkedlist[2], '\\n')   # python中可以直接通过下表访问链表的值\n",
    "linkedlist.remove(linkedlist[0])      # 删除指定元素，但是如果有重复值的话只能删除第一次出现的\n",
    "print(linkedlist)\n"
   ]
  },
  {
   "cell_type": "markdown",
   "metadata": {},
   "source": [
    "- **删除链表中指定元素， 参数deque，val**"
   ]
  },
  {
   "cell_type": "code",
   "execution_count": 11,
   "metadata": {},
   "outputs": [
    {
     "data": {
      "text/plain": [
       "deque([99, 3])"
      ]
     },
     "execution_count": 11,
     "metadata": {},
     "output_type": "execute_result"
    }
   ],
   "source": [
    "def remVal(x: deque() , val):\n",
    "    for index in range(len(x)):\n",
    "        if x[index] == val:\n",
    "            x.remove(val)\n",
    "    return x\n",
    "\n",
    "remVal(linkedlist, 2)"
   ]
  },
  {
   "cell_type": "markdown",
   "metadata": {},
   "source": [
    "# HashMap(哈希表)"
   ]
  },
  {
   "cell_type": "code",
   "execution_count": 8,
   "metadata": {},
   "outputs": [
    {
     "name": "stdout",
     "output_type": "stream",
     "text": [
      "[7, 7, 7, 7, 7]\n"
     ]
    }
   ],
   "source": [
    "# 所谓hashmap其实就是键值对，只不过在其他语言中是索引-值得形式，python中很自然的就是字典的数据结构\n",
    "## LeetCode496（非常好的一个题目）：给定两个数组nums1，nums2，要求遍历nums1中所有元素，并返回该元素在nums2中对应位置上的第一个比当前元素大的值，若没有则返回-1\n",
    "\n",
    "## 解题思路是利用一个栈+hashmap，遍历nums2中的元素，找到当前元素的下一个更大元素，然后存入哈希表中，再根据遍历nums1来查找即可得到返回值\n",
    "\n",
    "def nextGreaterElement(nums1, nums2):\n",
    "    res = []\n",
    "    hash = {}     # 创建一个字典存储哈希表\n",
    "    list = []     # 用列表模拟栈操作\n",
    "    for x in nums2:\n",
    "        while list and x > list[-1]:\n",
    "            hash[list.pop()] = x\n",
    "        list.append(x)\n",
    "    if len(list) != 0:\n",
    "        for z in list:\n",
    "            hash[z] = -1\n",
    "    for w in nums1:\n",
    "        res.append(hash[w])\n",
    "    return res\n",
    "\n",
    "nums1 = [1,3,5,2,4]\n",
    "\n",
    "nums2 = [6,5,4,3,2,1,7]\n",
    "res = nextGreaterElement(nums1, nums2)\n",
    "print(res)\n",
    "            \n",
    "            "
   ]
  },
  {
   "cell_type": "markdown",
   "metadata": {},
   "source": [
    "# 双指针算法"
   ]
  },
  {
   "cell_type": "code",
   "execution_count": 1,
   "metadata": {},
   "outputs": [
    {
     "name": "stdout",
     "output_type": "stream",
     "text": [
      "3\n"
     ]
    }
   ],
   "source": [
    "# LeetCode 141：环形链表      用快慢指针解决\n",
    "\n",
    "class ListNode:\n",
    "    def __init__(self, x):\n",
    "        self.val = x\n",
    "        self.next = None\n",
    "\n",
    "class Solution:\n",
    "    def hasCycle(self, head: ListNode) -> bool:\n",
    "        if not head: return False\n",
    "        slow, fast = head, head\n",
    "        while fast and fast.next:\n",
    "            slow = slow.next\n",
    "            fast = fast.next.next\n",
    "            if fast == slow:\n",
    "                return True\n",
    "        return False\n",
    "\n",
    "\n",
    "# LeetCode 881：救生艇    使用一个双向对撞指针，还用到了贪心的思想\n",
    "def numRescueBoats(people: list[int], limit: int) -> int:\n",
    "    count = 0\n",
    "    i = 0\n",
    "    j = len(people)-1\n",
    "    if people is None or len(people) == 0:\n",
    "        return 0\n",
    "    people.sort()     # 先从小到大排个序，这就是贪心的思想，不管怎么样让最重的带一个最轻的上船，超重就自己坐船\n",
    "    while i<=j:\n",
    "        if people[i] + people[j] <= limit:\n",
    "            i+=1\n",
    "        j-=1\n",
    "        count+=1\n",
    "    return count\n",
    "\n",
    "p = [3,2,2,1]\n",
    "limit = 3\n",
    "print(numRescueBoats(p, limit))"
   ]
  },
  {
   "cell_type": "markdown",
   "metadata": {},
   "source": [
    "# 滑动窗口技巧"
   ]
  },
  {
   "cell_type": "code",
   "execution_count": 13,
   "metadata": {},
   "outputs": [
    {
     "name": "stdout",
     "output_type": "stream",
     "text": [
      "15\n"
     ]
    }
   ],
   "source": [
    "# 假设一个数组要你以3个连续数为一组，找到它们的和为最大的值\n",
    "\n",
    "def slide_sum(A):\n",
    "    list = []\n",
    "    i = 0\n",
    "    list.append(A[0] + A[1]+ A[2])\n",
    "    sum = list[0]\n",
    "    while i != len(A)-3:\n",
    "        list.append(sum - A[i] + A[i+3])    # 这里用的一个技巧就相当于和减去第一项再加上新的一项，比起每次指针往后一次算3个数的和要快很多\n",
    "        sum = list[i+1]\n",
    "        i+=1\n",
    "    list.sort()\n",
    "    return list[-1]\n",
    "\n",
    "A = [1, 4, 2, 3, 4, 5, 6]\n",
    "print(slide_sum(A))"
   ]
  },
  {
   "cell_type": "code",
   "execution_count": null,
   "metadata": {},
   "outputs": [],
   "source": [
    "## LeetCode209 找连续最短子数组的长度，满足数组中的和>=target值\n",
    "\n",
    "class Solution:\n",
    "    def minSubArrayLen(self, s, nums) -> int:\n",
    "        # 定义一个无限大的数\n",
    "        res = float(\"inf\")\n",
    "        Sum = 0\n",
    "        index = 0\n",
    "        for i in range(len(nums)):     ## 具体思路就是先从第一个位置开始求和直到满足条件，然后把当前长度存下来，每次再把当前的index位置减掉然后重复判断\n",
    "            Sum += nums[i]             ## 是否满足条件，此时若res变小了就更新保存，直到找完数组中所有的元素为止\n",
    "            while Sum >= s:\n",
    "                res = min(res, i-index+1)\n",
    "                Sum -= nums[index]\n",
    "                index += 1\n",
    "        return 0 if res==float(\"inf\") else res"
   ]
  }
 ],
 "metadata": {
  "kernelspec": {
   "display_name": "Python 3.9.13 ('pytorch_basic')",
   "language": "python",
   "name": "python3"
  },
  "language_info": {
   "codemirror_mode": {
    "name": "ipython",
    "version": 3
   },
   "file_extension": ".py",
   "mimetype": "text/x-python",
   "name": "python",
   "nbconvert_exporter": "python",
   "pygments_lexer": "ipython3",
   "version": "3.9.13"
  },
  "orig_nbformat": 4,
  "vscode": {
   "interpreter": {
    "hash": "5d7f9c8d1ba637fbaa165b7e1b068b277a24bdbbae2fecef2adf18f32dc564ea"
   }
  }
 },
 "nbformat": 4,
 "nbformat_minor": 2
}
