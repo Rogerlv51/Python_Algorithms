{
 "cells": [
  {
   "cell_type": "markdown",
   "metadata": {},
   "source": [
    "# 选择排序"
   ]
  },
  {
   "cell_type": "code",
   "execution_count": 13,
   "metadata": {},
   "outputs": [],
   "source": [
    "# 用一种递归的方式去做，每一次找当前序列中的最大值，然后交换最大值和最后一个索引位置的值，直到整个序列排序完毕\n",
    "def selection_sort(A, i = None): \n",
    "    if i is None: i=len(A)-1 \n",
    "    if i>0: \n",
    "        j = prefix_max(A, i) \n",
    "        A[i], A[j] = A[j], A[i] \n",
    "        selection_sort(A, i -1)\n",
    "\n",
    "def prefix_max(A, i):    # 查找序列最大值所在索引\n",
    "    if i>0:\n",
    "        j = prefix_max(A, i-1)\n",
    "        if A[i] < A[j]:\n",
    "            return j\n",
    "    return i\n",
    "\n",
    "A = [5, 6, 4, 3, 1, 2]\n",
    "# print(prefix_max(A, len(A)-1))\n"
   ]
  },
  {
   "cell_type": "code",
   "execution_count": 14,
   "metadata": {},
   "outputs": [
    {
     "name": "stdout",
     "output_type": "stream",
     "text": [
      "None\n"
     ]
    }
   ],
   "source": []
  },
  {
   "cell_type": "markdown",
   "metadata": {},
   "source": [
    "# 单链表"
   ]
  },
  {
   "cell_type": "code",
   "execution_count": 9,
   "metadata": {},
   "outputs": [
    {
     "name": "stdout",
     "output_type": "stream",
     "text": [
      "deque([1, 2, 3, 2]) \n",
      "\n",
      "deque([1, 2, 99, 3, 2]) \n",
      "\n",
      "1 \n",
      "\n",
      "99 \n",
      "\n",
      "deque([2, 99, 3, 2])\n"
     ]
    }
   ],
   "source": [
    "# 单链表基础操作\n",
    "from collections import deque\n",
    "\n",
    "linkedlist = deque()    # 创建单链表\n",
    "linkedlist.append(1)    # 尾插\n",
    "linkedlist.append(2)\n",
    "linkedlist.append(3)\n",
    "linkedlist.append(2)\n",
    "print(linkedlist, '\\n')\n",
    "linkedlist.insert(2, 99)     # 指定位置插入\n",
    "print(linkedlist, '\\n')\n",
    "print(linkedlist.index(2), '\\n')        #  搜索算法，查找指定值第一次出现的位置\n",
    "print(linkedlist[2], '\\n')   # python中可以直接通过下表访问链表的值\n",
    "linkedlist.remove(linkedlist[0])      # 删除指定元素，但是如果有重复值的话只能删除第一次出现的\n",
    "print(linkedlist)\n"
   ]
  },
  {
   "cell_type": "markdown",
   "metadata": {},
   "source": [
    "- **删除链表中指定元素， 参数deque，val**"
   ]
  },
  {
   "cell_type": "code",
   "execution_count": 11,
   "metadata": {},
   "outputs": [
    {
     "data": {
      "text/plain": [
       "deque([99, 3])"
      ]
     },
     "execution_count": 11,
     "metadata": {},
     "output_type": "execute_result"
    }
   ],
   "source": [
    "def remVal(x: deque() , val):\n",
    "    for index in range(len(x)):\n",
    "        if x[index] == val:\n",
    "            x.remove(val)\n",
    "    return x\n",
    "\n",
    "remVal(linkedlist, 2)"
   ]
  },
  {
   "cell_type": "markdown",
   "metadata": {},
   "source": [
    "# HashMap(哈希表)"
   ]
  },
  {
   "cell_type": "code",
   "execution_count": 8,
   "metadata": {},
   "outputs": [
    {
     "name": "stdout",
     "output_type": "stream",
     "text": [
      "[7, 7, 7, 7, 7]\n"
     ]
    }
   ],
   "source": [
    "# 所谓hashmap其实就是键值对，只不过在其他语言中是索引-值得形式，python中很自然的就是字典的数据结构\n",
    "## LeetCode496（非常好的一个题目）：给定两个数组nums1，nums2，要求遍历nums1中所有元素，并返回该元素在nums2中对应位置上的第一个比当前元素大的值，若没有则返回-1\n",
    "\n",
    "## 解题思路是利用一个栈+hashmap，遍历nums2中的元素，找到当前元素的下一个更大元素，然后存入哈希表中，再根据遍历nums1来查找即可得到返回值\n",
    "\n",
    "def nextGreaterElement(nums1, nums2):\n",
    "    res = []\n",
    "    hash = {}     # 创建一个字典存储哈希表\n",
    "    list = []     # 用列表模拟栈操作\n",
    "    for x in nums2:\n",
    "        while list and x > list[-1]:\n",
    "            hash[list.pop()] = x\n",
    "        list.append(x)\n",
    "    if len(list) != 0:\n",
    "        for z in list:\n",
    "            hash[z] = -1\n",
    "    for w in nums1:\n",
    "        res.append(hash[w])\n",
    "    return res\n",
    "\n",
    "nums1 = [1,3,5,2,4]\n",
    "\n",
    "nums2 = [6,5,4,3,2,1,7]\n",
    "res = nextGreaterElement(nums1, nums2)\n",
    "print(res)\n",
    "            \n",
    "            "
   ]
  },
  {
   "cell_type": "markdown",
   "metadata": {},
   "source": [
    "## 双指针算法"
   ]
  },
  {
   "cell_type": "code",
   "execution_count": 1,
   "metadata": {},
   "outputs": [
    {
     "name": "stdout",
     "output_type": "stream",
     "text": [
      "3\n"
     ]
    }
   ],
   "source": [
    "# LeetCode 141：环形链表      用快慢指针解决\n",
    "\n",
    "class ListNode:\n",
    "    def __init__(self, x):\n",
    "        self.val = x\n",
    "        self.next = None\n",
    "\n",
    "class Solution:\n",
    "    def hasCycle(self, head: ListNode) -> bool:\n",
    "        if not head: return False\n",
    "        slow, fast = head, head\n",
    "        while fast and fast.next:\n",
    "            slow = slow.next\n",
    "            fast = fast.next.next\n",
    "            if fast == slow:\n",
    "                return True\n",
    "        return False\n",
    "\n",
    "\n",
    "# LeetCode 881：救生艇    使用一个双向对撞指针，还用到了贪心的思想\n",
    "def numRescueBoats(people: list[int], limit: int) -> int:\n",
    "    count = 0\n",
    "    i = 0\n",
    "    j = len(people)-1\n",
    "    if people is None or len(people) == 0:\n",
    "        return 0\n",
    "    people.sort()     # 先从小到大排个序，这就是贪心的思想，不管怎么样让最重的带一个最轻的上船，超重就自己坐船\n",
    "    while i<=j:\n",
    "        if people[i] + people[j] <= limit:\n",
    "            i+=1\n",
    "        j-=1\n",
    "        count+=1\n",
    "    return count\n",
    "\n",
    "p = [3,2,2,1]\n",
    "limit = 3\n",
    "print(numRescueBoats(p, limit))"
   ]
  }
 ],
 "metadata": {
  "kernelspec": {
   "display_name": "Python 3.9.13 ('pytorch_basic')",
   "language": "python",
   "name": "python3"
  },
  "language_info": {
   "codemirror_mode": {
    "name": "ipython",
    "version": 3
   },
   "file_extension": ".py",
   "mimetype": "text/x-python",
   "name": "python",
   "nbconvert_exporter": "python",
   "pygments_lexer": "ipython3",
   "version": "3.9.13"
  },
  "orig_nbformat": 4,
  "vscode": {
   "interpreter": {
    "hash": "5d7f9c8d1ba637fbaa165b7e1b068b277a24bdbbae2fecef2adf18f32dc564ea"
   }
  }
 },
 "nbformat": 4,
 "nbformat_minor": 2
}
