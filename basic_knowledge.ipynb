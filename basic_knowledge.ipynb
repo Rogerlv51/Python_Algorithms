{
 "cells": [
  {
   "cell_type": "markdown",
   "metadata": {},
   "source": [
    "# 单链表"
   ]
  },
  {
   "cell_type": "code",
   "execution_count": 9,
   "metadata": {},
   "outputs": [
    {
     "name": "stdout",
     "output_type": "stream",
     "text": [
      "deque([1, 2, 3, 2]) \n",
      "\n",
      "deque([1, 2, 99, 3, 2]) \n",
      "\n",
      "1 \n",
      "\n",
      "99 \n",
      "\n",
      "deque([2, 99, 3, 2])\n"
     ]
    }
   ],
   "source": [
    "# 单链表基础操作\n",
    "from collections import deque\n",
    "\n",
    "linkedlist = deque()    # 创建单链表\n",
    "linkedlist.append(1)    # 尾插\n",
    "linkedlist.append(2)\n",
    "linkedlist.append(3)\n",
    "linkedlist.append(2)\n",
    "print(linkedlist, '\\n')\n",
    "linkedlist.insert(2, 99)     # 指定位置插入\n",
    "print(linkedlist, '\\n')\n",
    "print(linkedlist.index(2), '\\n')        #  搜索算法，查找指定值第一次出现的位置\n",
    "print(linkedlist[2], '\\n')   # python中可以直接通过下表访问链表的值\n",
    "linkedlist.remove(linkedlist[0])      # 删除指定元素，但是如果有重复值的话只能删除第一次出现的\n",
    "print(linkedlist)\n"
   ]
  },
  {
   "cell_type": "markdown",
   "metadata": {},
   "source": [
    "- **删除链表中指定元素， 参数deque，val**"
   ]
  },
  {
   "cell_type": "code",
   "execution_count": 11,
   "metadata": {},
   "outputs": [
    {
     "data": {
      "text/plain": [
       "deque([99, 3])"
      ]
     },
     "execution_count": 11,
     "metadata": {},
     "output_type": "execute_result"
    }
   ],
   "source": [
    "def remVal(x: deque() , val):\n",
    "    for index in range(len(x)):\n",
    "        if x[index] == val:\n",
    "            x.remove(val)\n",
    "    return x\n",
    "\n",
    "remVal(linkedlist, 2)"
   ]
  },
  {
   "cell_type": "markdown",
   "metadata": {},
   "source": [
    "# HashMap(哈希表)"
   ]
  },
  {
   "cell_type": "code",
   "execution_count": null,
   "metadata": {},
   "outputs": [],
   "source": [
    "# 所谓hashmap其实就是键值对，只不过在其他语言中是索引-值得形式，python中很自然的就是字典的数据结构\n"
   ]
  }
 ],
 "metadata": {
  "kernelspec": {
   "display_name": "Python 3.9.13 ('pytorch_basic')",
   "language": "python",
   "name": "python3"
  },
  "language_info": {
   "codemirror_mode": {
    "name": "ipython",
    "version": 3
   },
   "file_extension": ".py",
   "mimetype": "text/x-python",
   "name": "python",
   "nbconvert_exporter": "python",
   "pygments_lexer": "ipython3",
   "version": "3.9.13"
  },
  "orig_nbformat": 4,
  "vscode": {
   "interpreter": {
    "hash": "5d7f9c8d1ba637fbaa165b7e1b068b277a24bdbbae2fecef2adf18f32dc564ea"
   }
  }
 },
 "nbformat": 4,
 "nbformat_minor": 2
}
